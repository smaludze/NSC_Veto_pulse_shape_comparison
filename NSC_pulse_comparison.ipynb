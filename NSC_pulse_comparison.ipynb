{
 "cells": [
  {
   "cell_type": "code",
   "execution_count": 1,
   "id": "c9906c59",
   "metadata": {},
   "outputs": [
    {
     "name": "stdout",
     "output_type": "stream",
     "text": [
      "Welcome to JupyROOT 6.26/04\n"
     ]
    }
   ],
   "source": [
    "import glob\n",
    "import numpy as np\n",
    "import ROOT\n",
    "import random\n",
    "from scipy import interpolate, optimize"
   ]
  },
  {
   "cell_type": "code",
   "execution_count": 2,
   "id": "ccfdf7bb",
   "metadata": {},
   "outputs": [],
   "source": [
    "filesER = glob.glob(\"/home/smalu/Documents/NSC_veto_ER_NR/Pulse/*ER*.txt\")\n",
    "filesNR = glob.glob(\"/home/smalu/Documents/NSC_veto_ER_NR/Pulse/*NR*.txt\")"
   ]
  },
  {
   "cell_type": "code",
   "execution_count": 17,
   "id": "f61a4196",
   "metadata": {},
   "outputs": [],
   "source": [
    "%jsroot on"
   ]
  },
  {
   "cell_type": "code",
   "execution_count": 3,
   "id": "5bcccc58",
   "metadata": {},
   "outputs": [],
   "source": [
    "#writing pulses into arrays\n",
    "number_ER = len(filesER)\n",
    "number_NR = len(filesNR)\n",
    "pulsesER = {}\n",
    "primaryPulsesER = []\n",
    "energiesER = []\n",
    "counter = 0\n",
    "for index, file in enumerate(filesER):\n",
    "    pulse = {}\n",
    "    #print(file)\n",
    "    #print(round(float(file.split('/')[6].split('_')[1][:-3]), 1))\n",
    "    energy = round(float(file.split('/')[6].split('_')[1][:-3]), 1)\n",
    "    for i in range(4):\n",
    "        pulse[i] = []\n",
    "    with open(file) as f:\n",
    "        for line in f:\n",
    "            for i in range(4):\n",
    "                pulse[i].append(float(line.split()[i]))\n",
    "    primaryCh = np.argmax([max(pulse[0]),max(pulse[1]),max(pulse[2]),max(pulse[3])])\n",
    "    if energy>0.5:\n",
    "        pulsesER[counter] = pulse\n",
    "        primaryPulsesER.append(pulse[primaryCh])\n",
    "        energiesER.append(energy)\n",
    "        counter+=1\n",
    "        \n",
    "pulsesNR = {}\n",
    "primaryPulsesNR = []\n",
    "energiesNR = []\n",
    "counter = 0\n",
    "for index, file in enumerate(filesNR):\n",
    "    pulse = {}\n",
    "    energy = round(float(file.split('/')[6].split('_')[1][:-3]), 1)\n",
    "    for i in range(4):\n",
    "        pulse[i] = []\n",
    "    with open(file) as f:\n",
    "        for line in f:\n",
    "            for i in range(4):\n",
    "                pulse[i].append(float(line.split()[i]))\n",
    "    primaryCh = np.argmax([max(pulse[0]),max(pulse[1]),max(pulse[2]),max(pulse[3])])\n",
    "    if energy>0.5:\n",
    "        pulsesNR[counter] = pulse\n",
    "        primaryPulsesNR.append(pulse[primaryCh])\n",
    "        energiesNR.append(energy)\n",
    "        counter+=1"
   ]
  },
  {
   "cell_type": "code",
   "execution_count": 4,
   "id": "04a1b7fb",
   "metadata": {},
   "outputs": [
    {
     "name": "stdout",
     "output_type": "stream",
     "text": [
      "Number of ER pulses: 742\n",
      "Number of NR pulses: 80\n"
     ]
    }
   ],
   "source": [
    "nSamples = len(pulsesER[0][0])\n",
    "print(\"Number of ER pulses: \"+str(len(energiesER)))\n",
    "print(\"Number of NR pulses: \"+str(len(energiesNR)))"
   ]
  },
  {
   "cell_type": "code",
   "execution_count": 10,
   "id": "6d3b6b00",
   "metadata": {
    "scrolled": true
   },
   "outputs": [
    {
     "name": "stderr",
     "output_type": "stream",
     "text": [
      "Warning in <TCanvas::Constructor>: Deleting canvas with same name: cPulses\n"
     ]
    },
    {
     "data": {
      "image/png": "[encoded data removed]",
      "text/plain": [
       "<IPython.core.display.Image object>"
      ]
     },
     "metadata": {},
     "output_type": "display_data"
    }
   ],
   "source": [
    "#plotting some of the ER pulses (All Channes)\n",
    "#testing purposes\n",
    "channels = ['A', 'B', 'C', 'D']\n",
    "nSamples = len(pulsesER[0][0])\n",
    "n = random.randint(0, len(pulsesER))\n",
    "pulseGraphs = {}\n",
    "X = [float(i) for i in range(nSamples)]\n",
    "X = np.array(X)\n",
    "for i in range(4):\n",
    "    Y = np.array(pulsesER[n][i])\n",
    "    pulseGraphs[i] = ROOT.TGraph(nSamples,X, Y)\n",
    "\n",
    "cPulses= ROOT.TCanvas(\"cPulses\", \"\", 700, 700)\n",
    "cPulses.Divide(2,2)\n",
    "for i in range(4):\n",
    "    cPulses.cd(i+1)\n",
    "    \n",
    "    pulseGraphs[i].SetLineColor(ROOT.kRed)\n",
    "    pulseGraphs[i].SetMarkerColor(ROOT.kRed)\n",
    "    pulseGraphs[i].SetLineWidth(2)\n",
    "    pulseGraphs[i].SetTitle(channels[i])\n",
    "    #pulseGraphs[i].GetXaxis().SetRangeUser(0.75e6, 1e6)\n",
    "    #pulseGraphs[i].GetYaxis().SetRangeUser(-.1e-6, 0.7e-6)\n",
    "    pulseGraphs[i].GetXaxis().SetTitle('ms')\n",
    "    pulseGraphs[i].GetYaxis().SetTitle('a.u')\n",
    "    pulseGraphs[i].GetYaxis().SetTitleOffset(1.4)\n",
    "    #pulseGraphs[i].SetTitle('Energy: '+str(round(energy[ch][i],2))+\" keV, Chi2: \"+str(round(chi2s_arr[ch][i])))\n",
    "    pulseGraphs[i].Draw()\n",
    "\n",
    "cPulses.Draw()"
   ]
  },
  {
   "cell_type": "code",
   "execution_count": 11,
   "id": "65bfecca",
   "metadata": {},
   "outputs": [],
   "source": [
    "#function calculates rise timestamp given the pulse and the percentage\n",
    "def calcRise(pulse, pct):\n",
    "    pmax = max(pulse)\n",
    "    maxbin = np.argmax(pulse)\n",
    "    result = 0\n",
    "    time = [float(i) for i in range(nSamples)]\n",
    "    time = np.array(time)\n",
    "    for i in range(int(nSamples / 4)):\n",
    "        if pulse[maxbin - i] < pct * pmax and maxbin - i > 0:\n",
    "            y = np.array(\n",
    "                  [pulse[maxbin - i - 1], pulse[maxbin - i], pulse[maxbin - i + 1], pulse[maxbin - i + 2]])\n",
    "            x = np.array(\n",
    "                  [time[maxbin - i - 1], time[maxbin - i], time[maxbin - i + 1], time[maxbin - i + 2]])\n",
    "            f1 = interpolate.interp1d(x, y, kind='linear')\n",
    "            g = lambda x: f1(x) - pct * pmax\n",
    "            try:\n",
    "                result = optimize.newton(g, time[maxbin - i])\n",
    "            except (ValueError, RuntimeError):\n",
    "                result = 0\n",
    "            break\n",
    "    return result"
   ]
  },
  {
   "cell_type": "code",
   "execution_count": 12,
   "id": "09002d5b",
   "metadata": {},
   "outputs": [],
   "source": [
    "#calculating rise timestamps\n",
    "primaryRiseER10 = []\n",
    "primaryRiseER40 = []\n",
    "primaryRiseER90 = []\n",
    "for i in range(len(primaryPulsesER)):\n",
    "    primaryRiseER10.append(calcRise(primaryPulsesER[i],.1))\n",
    "    primaryRiseER40.append(calcRise(primaryPulsesER[i],.4))\n",
    "    primaryRiseER90.append(calcRise(primaryPulsesER[i],.9))\n",
    "    \n",
    "primaryRiseNR10 = []\n",
    "primaryRiseNR40 = []\n",
    "primaryRiseNR90 = []\n",
    "for i in range(len(primaryPulsesNR)):\n",
    "    primaryRiseNR10.append(calcRise(primaryPulsesNR[i],.1))\n",
    "    primaryRiseNR40.append(calcRise(primaryPulsesNR[i],.4))\n",
    "    primaryRiseNR90.append(calcRise(primaryPulsesNR[i],.9))"
   ]
  },
  {
   "cell_type": "code",
   "execution_count": 13,
   "id": "df1381fa",
   "metadata": {},
   "outputs": [],
   "source": [
    "#Histograms with rise time distribution\n",
    "nbins = 25\n",
    "riseER1 = ROOT.TH1F(\"riseER1\", \"\", nbins, 0.0, 15)\n",
    "riseNR1 = ROOT.TH1F(\"riseNR1\", \"\", nbins, 0.0, 15)\n",
    "riseER = ROOT.TH1F(\"riseER\", \"\", nbins, 0.0, 15)\n",
    "riseNR = ROOT.TH1F(\"riseNR\", \"\", nbins, 0.0, 15)\n",
    "rise_vs_energy = ROOT.TH2F(\"rise_vs_energy\", \"\", nbins, 1, 5, nbins, 0.0, 15)\n",
    "rise_vs_energy1 = ROOT.TH2F(\"rise_vs_energy1\", \"\", nbins, 1, 5, nbins, 0.0, 15)\n",
    "for i in range(len(primaryPulsesER)):\n",
    "    riseER1.Fill(primaryRiseER90[i]-primaryRiseER10[i])\n",
    "    rise_vs_energy.Fill(energiesER[i], primaryRiseER90[i]-primaryRiseER10[i])\n",
    "for i in range(len(primaryPulsesNR)):\n",
    "    riseNR1.Fill(primaryRiseNR90[i]-primaryRiseNR10[i])\n",
    "    rise_vs_energy1.Fill(energiesNR[i], primaryRiseNR90[i]-primaryRiseNR10[i])\n",
    "    \n",
    "for i in range(nbins):\n",
    "    a = riseER1.GetBinContent(i)\n",
    "    riseER.SetBinContent(i, a/len(energiesER))\n",
    "for i in range(nbins):\n",
    "    a = riseNR1.GetBinContent(i)\n",
    "    riseNR.SetBinContent(i, a/len(energiesNR))"
   ]
  },
  {
   "cell_type": "code",
   "execution_count": 14,
   "id": "4a59dd10",
   "metadata": {
    "scrolled": true
   },
   "outputs": [
    {
     "name": "stdout",
     "output_type": "stream",
     "text": [
      "548\n",
      "453\n",
      "217\n",
      "545\n",
      "143\n",
      "100\n"
     ]
    },
    {
     "data": {
      "image/png": "[encoded data removed]",
      "text/plain": [
       "<IPython.core.display.Image object>"
      ]
     },
     "metadata": {},
     "output_type": "display_data"
    }
   ],
   "source": [
    "# randomly selected and overlaid pulses\n",
    "legend, line10, line40, line90, template_label, line10_1, line40_1, line90_1 = {}, {}, {}, {}, {}, {}, {}, {}\n",
    "pulse_graphs, pulse_graphs1 = {}, {}\n",
    "cPulseComparison = ROOT.TCanvas(\"cPulseComparison\", \"\", 1000, 500)\n",
    "nx = 3\n",
    "ny = 2\n",
    "cPulseComparison.Divide(nx,ny)\n",
    "for k in range(nx*ny):\n",
    "    i = random.randint(0,len(primaryPulsesER)-1)\n",
    "    j = random.randint(0,len(primaryPulsesNR)-1)\n",
    "    \n",
    "    print(i)\n",
    "    \n",
    "    cPulseComparison.cd(k+1)\n",
    "    minX = 250\n",
    "    maxX = 350\n",
    "    \n",
    "    X = [float(i) for i in range(nSamples)]\n",
    "    X = np.array(X)\n",
    "    Y = np.array(primaryPulsesER[i])\n",
    "    amp1 = max(Y)\n",
    "    Y /= max(Y)\n",
    "    pulse_graphs[k] = ROOT.TGraph(len(Y), X, Y)\n",
    "    \n",
    "    maxY = 1.1\n",
    "    minY = -0.2\n",
    "    \n",
    "    pulse_graphs[k].SetLineColor(ROOT.kRed)\n",
    "    pulse_graphs[k].SetMarkerColor(ROOT.kRed)\n",
    "    pulse_graphs[k].SetLineWidth(2)\n",
    "    pulse_graphs[k].GetXaxis().SetRangeUser(minX, maxX)\n",
    "    #pulse_graphs[k].GetYaxis().SetRangeUser(minY, maxY)\n",
    "    pulse_graphs[k].GetXaxis().SetTitle('us')\n",
    "    pulse_graphs[k].GetYaxis().SetTitle('a.u')\n",
    "    pulse_graphs[k].GetYaxis().SetTitleOffset(1.4)\n",
    "    pulse_graphs[k].SetTitle(\"E1: \"+str(energiesER[i])+\" keV, rise1: \"+str(round((primaryRiseER90[i]-primaryRiseER10[i]), 1))\\\n",
    "                           +\"#mus, E2: \"+str(energiesNR[j])+\"keV. rise2: \"+str(round((primaryRiseNR90[j]-primaryRiseNR10[j]), 1))+'#mus')\n",
    "    pulse_graphs[k].Draw()\n",
    "    \n",
    "    line10[k] = ROOT.TLine(primaryRiseER10[i], minY, primaryRiseER10[i], maxY)\n",
    "    line10[k].SetLineColor(ROOT.kBlack)\n",
    "    line10[k].SetLineStyle(7)\n",
    "    line10[k].SetLineWidth(2)\n",
    "    line10[k].Draw(\"SAME\")\n",
    "    \n",
    "    line40[k] = ROOT.TLine(primaryRiseER40[i], minY, primaryRiseER40[i], maxY)\n",
    "    line40[k].SetLineColor(ROOT.kOrange)\n",
    "    line40[k].SetLineStyle(7)\n",
    "    line40[k].SetLineWidth(2)\n",
    "    #line40[i].Draw(\"SAME\")\n",
    "    \n",
    "    line90[k] = ROOT.TLine(primaryRiseER90[i], minY, primaryRiseER90[i], maxY)\n",
    "    line90[k].SetLineColor(ROOT.kRed);\n",
    "    line90[k].SetLineStyle(7);\n",
    "    line90[k].SetLineWidth(2);\n",
    "    line90[k].Draw(\"SAME\")\n",
    "\n",
    "    legend[k] = ROOT.TLegend(0.7,0.555,0.9,0.9)\n",
    "    legend[k].AddEntry(pulse_graphs[k],\"pulse\",\"l\")\n",
    "    legend[k].AddEntry(line10[k],\"rise10\",\"l\")\n",
    "    #legend[i].AddEntry(line40[k],\"rise40\",\"l\")\n",
    "    legend[k].AddEntry(line90[k],\"rise90\",\"l\")\n",
    "    legend[k].Draw(\"SAME\")\n",
    "    \n",
    "    #template_label[i] = ROOT.TLatex(minX+.5*(maxX-minX),0.9*maxY,\"Template \"+str(template_number[ch][i]+1))\n",
    "    #template_label[i].Draw(\"SAME\")\n",
    "    \n",
    "    X_shift = primaryRiseNR10[j] - primaryRiseER10[i]\n",
    "    X-=X_shift\n",
    "    Y = np.array(primaryPulsesNR[j])\n",
    "    amp2 = max(Y)\n",
    "    Y /= max(Y)\n",
    "    pulse_graphs1[k] = ROOT.TGraph(len(Y), X, Y)\n",
    "    \n",
    "    pulse_graphs1[k].SetLineColor(ROOT.kBlue)\n",
    "    pulse_graphs1[k].SetMarkerColor(ROOT.kBlue)\n",
    "    pulse_graphs1[k].SetLineWidth(2)\n",
    "    pulse_graphs1[k].Draw(\"SAME\")\n",
    "    \n",
    "    line10_1[k] = ROOT.TLine(primaryRiseNR10[j], minY, primaryRiseNR10[j], maxY);\n",
    "    line10_1[k].SetLineColor(ROOT.kBlue);\n",
    "    line10_1[k].SetLineStyle(7);\n",
    "    line10_1[k].SetLineWidth(2);\n",
    "    #line10_1[k].Draw(\"SAME\")\n",
    "    \n",
    "    line40_1[k] = ROOT.TLine(primaryRiseNR40[j], minY, primaryRiseNR40[j], maxY);\n",
    "    line40_1[k].SetLineColor(ROOT.kBlue);\n",
    "    line40_1[k].SetLineStyle(7);\n",
    "    line40_1[k].SetLineWidth(2);\n",
    "    #line40_1[i].Draw(\"SAME\")\n",
    "    \n",
    "    line90_1[k] = ROOT.TLine(primaryRiseNR90[j]-X_shift, minY, primaryRiseNR90[j]-X_shift, maxY)\n",
    "    line90_1[k].SetLineColor(ROOT.kBlue)\n",
    "    line90_1[k].SetLineStyle(7)\n",
    "    line90_1[k].SetLineWidth(2)\n",
    "    line90_1[k].Draw(\"SAME\")\n",
    "    \n",
    "    legend[k].AddEntry(pulse_graphs1[k],\"pulse\",\"l\")\n",
    "    legend[k].AddEntry(line10_1[k],\"rise10\",\"l\")\n",
    "    #legend[k].AddEntry(line40_1[k],\"rise40\",\"l\")\n",
    "    legend[k].AddEntry(line90_1[k],\"rise90\",\"l\")\n",
    "    legend[k].Draw(\"SAME\")\n",
    "cPulseComparison.Draw()"
   ]
  },
  {
   "cell_type": "code",
   "execution_count": 15,
   "id": "a5210959",
   "metadata": {
    "scrolled": true
   },
   "outputs": [
    {
     "data": {
      "image/png": "[encoded data removed]",
      "text/plain": [
       "<IPython.core.display.Image object>"
      ]
     },
     "metadata": {},
     "output_type": "display_data"
    }
   ],
   "source": [
    "cRise = ROOT.TCanvas(\"cRise\", \"\", 600, 500)\n",
    "cRise.cd()\n",
    "riseNR.SetStats(0)\n",
    "riseNR.SetLineColor(ROOT.kBlue)\n",
    "riseNR.SetLineWidth(2)\n",
    "riseNR.GetXaxis().SetRangeUser(6, 18)\n",
    "riseNR.GetXaxis().SetTitle('us')\n",
    "riseNR.GetYaxis().SetTitle('Normalized')\n",
    "riseNR.GetYaxis().SetTitleOffset(1.6)\n",
    "riseNR.Draw()\n",
    "riseER.SetLineColor(ROOT.kRed)\n",
    "riseER.SetLineWidth(2)\n",
    "riseER.Draw(\"SAME\")\n",
    "\n",
    "legend = ROOT.TLegend(0.7,0.555,0.9,0.9)\n",
    "legend.AddEntry(riseNR,\"NR\",\"l\")\n",
    "legend.AddEntry(riseER,\"ER\",\"l\")\n",
    "legend.Draw(\"SAME\")\n",
    "cRise.Draw()"
   ]
  },
  {
   "cell_type": "markdown",
   "id": "657bd7d6",
   "metadata": {},
   "source": [
    "###### "
   ]
  },
  {
   "cell_type": "code",
   "execution_count": 79,
   "id": "445516d6",
   "metadata": {},
   "outputs": [
    {
     "name": "stderr",
     "output_type": "stream",
     "text": [
      "Warning in <TCanvas::Constructor>: Deleting canvas with same name: cRise_vs_energy\n"
     ]
    },
    {
     "data": {
      "text/html": [
       "\n",
       "\n",
       "<div id=\"root_plot_1657248806740\"\n",
       "     style=\"width: 596px; height: 472px\">\n",
       "</div>\n",
       "<script>\n",
       "\n",
       "function display_root_plot_1657248806740(Core) {\n",
       "   let obj = Core.parse({\"_typename\":\"TCanvas\",\"fUniqueID\":0,\"fBits\":3342344,\"fLineColor\":1,\"fLineStyle\":1,\"fLineWidth\":1,\"fFillColor\":0,\"fFillStyle\":1001,\"fLeftMargin\":0.1,\"fRightMargin\":0.1,\"fBottomMargin\":0.1,\"fTopMargin\":0.1,\"fXfile\":2,\"fYfile\":2,\"fAfile\":1,\"fXstat\":0.99,\"fYstat\":0.99,\"fAstat\":2,\"fFrameFillColor\":0,\"fFrameLineColor\":1,\"fFrameFillStyle\":1001,\"fFrameLineStyle\":1,\"fFrameLineWidth\":1,\"fFrameBorderSize\":1,\"fFrameBorderMode\":0,\"fX1\":0.499999962747095,\"fY1\":4.79999991059303,\"fX2\":5.5000000372529,\"fY2\":16.800000089407,\"fXtoAbsPixelk\":-59.5999446713445,\"fXtoPixelk\":-59.5999446713445,\"fXtoPixel\":119.199998223782,\"fYtoAbsPixelk\":660.800043669986,\"fYtoPixelk\":660.800043669986,\"fYtoPixel\":-39.333332747221,\"fUtoAbsPixelk\":5e-5,\"fUtoPixelk\":5e-5,\"fUtoPixel\":596,\"fVtoAbsPixelk\":472.00005,\"fVtoPixelk\":472,\"fVtoPixel\":-472,\"fAbsPixeltoXk\":0.499999962747095,\"fPixeltoXk\":0.499999962747095,\"fPixeltoX\":0.00838926186997619,\"fAbsPixeltoYk\":16.800000089407,\"fPixeltoYk\":4.79999991059303,\"fPixeltoY\":-0.0254237291924024,\"fXlowNDC\":0,\"fYlowNDC\":0,\"fXUpNDC\":1,\"fYUpNDC\":1,\"fWNDC\":1,\"fHNDC\":1,\"fAbsXlowNDC\":0,\"fAbsYlowNDC\":0,\"fAbsWNDC\":1,\"fAbsHNDC\":1,\"fUxmin\":1,\"fUymin\":6,\"fUxmax\":5,\"fUymax\":15.6,\"fTheta\":30,\"fPhi\":30,\"fAspectRatio\":0,\"fNumber\":0,\"fTickx\":0,\"fTicky\":0,\"fLogx\":0,\"fLogy\":0,\"fLogz\":0,\"fPadPaint\":0,\"fCrosshair\":0,\"fCrosshairPos\":0,\"fBorderSize\":2,\"fBorderMode\":0,\"fModified\":false,\"fGridx\":false,\"fGridy\":false,\"fAbsCoord\":false,\"fEditable\":true,\"fFixedAspectRatio\":false,\"fPrimitives\":{\"_typename\":\"TList\",\"name\":\"TList\",\"arr\":[{\"_typename\":\"TFrame\",\"fUniqueID\":0,\"fBits\":8,\"fLineColor\":1,\"fLineStyle\":1,\"fLineWidth\":1,\"fFillColor\":0,\"fFillStyle\":1001,\"fX1\":1,\"fY1\":6,\"fX2\":5,\"fY2\":15.6,\"fBorderSize\":1,\"fBorderMode\":0},{\"_typename\":\"TH2F\",\"fUniqueID\":0,\"fBits\":520,\"fName\":\"rise_vs_energy\",\"fTitle\":\"\",\"fLineColor\":600,\"fLineStyle\":1,\"fLineWidth\":1,\"fFillColor\":0,\"fFillStyle\":1001,\"fMarkerColor\":632,\"fMarkerStyle\":8,\"fMarkerSize\":1,\"fNcells\":729,\"fXaxis\":{\"_typename\":\"TAxis\",\"fUniqueID\":0,\"fBits\":0,\"fName\":\"xaxis\",\"fTitle\":\"keV\",\"fNdivisions\":510,\"fAxisColor\":1,\"fLabelColor\":1,\"fLabelFont\":42,\"fLabelOffset\":0.005,\"fLabelSize\":0.035,\"fTickLength\":0.03,\"fTitleOffset\":1,\"fTitleSize\":0.035,\"fTitleColor\":1,\"fTitleFont\":42,\"fNbins\":25,\"fXmin\":1,\"fXmax\":5,\"fXbins\":[],\"fFirst\":0,\"fLast\":0,\"fBits2\":0,\"fTimeDisplay\":false,\"fTimeFormat\":\"\",\"fLabels\":null,\"fModLabs\":null},\"fYaxis\":{\"_typename\":\"TAxis\",\"fUniqueID\":0,\"fBits\":2048,\"fName\":\"yaxis\",\"fTitle\":\"us\",\"fNdivisions\":510,\"fAxisColor\":1,\"fLabelColor\":1,\"fLabelFont\":42,\"fLabelOffset\":0.005,\"fLabelSize\":0.035,\"fTickLength\":0.03,\"fTitleOffset\":1.6,\"fTitleSize\":0.035,\"fTitleColor\":1,\"fTitleFont\":42,\"fNbins\":25,\"fXmin\":0,\"fXmax\":15,\"fXbins\":[],\"fFirst\":11,\"fLast\":26,\"fBits2\":0,\"fTimeDisplay\":false,\"fTimeFormat\":\"\",\"fLabels\":null,\"fModLabs\":null},\"fZaxis\":{\"_typename\":\"TAxis\",\"fUniqueID\":0,\"fBits\":0,\"fName\":\"zaxis\",\"fTitle\":\"\",\"fNdivisions\":510,\"fAxisColor\":1,\"fLabelColor\":1,\"fLabelFont\":42,\"fLabelOffset\":0.005,\"fLabelSize\":0.035,\"fTickLength\":0.03,\"fTitleOffset\":1,\"fTitleSize\":0.035,\"fTitleColor\":1,\"fTitleFont\":42,\"fNbins\":1,\"fXmin\":0,\"fXmax\":1,\"fXbins\":[],\"fFirst\":0,\"fLast\":0,\"fBits2\":0,\"fTimeDisplay\":false,\"fTimeFormat\":\"\",\"fLabels\":null,\"fModLabs\":null},\"fBarOffset\":0,\"fBarWidth\":1000,\"fEntries\":217,\"fTsumw\":217,\"fTsumw2\":217,\"fTsumwx\":341.9,\"fTsumwx2\":579.85,\"fMaximum\":-1111,\"fMinimum\":-1111,\"fNormFactor\":0,\"fContour\":[],\"fSumw2\":[],\"fOption\":\"\",\"fFunctions\":{\"_typename\":\"TList\",\"name\":\"TList\",\"arr\":[],\"opt\":[]},\"fBufferSize\":0,\"fBuffer\":[],\"fBinStatErrOpt\":0,\"fStatOverflows\":2,\"fScalefactor\":1,\"fTsumwy\":2178.30034625999,\"fTsumwy2\":22290.6903139949,\"fTsumwxy\":3412.62909531621,\"fArray\":{\"$arr\":\"Float32\",\"len\":729,\"p\":353,\"v\":[1,0,0,0,1],\"p1\":379,\"v1\":[5,5,1,3,0,3,1,1,0,1,2,1],\"p2\":406,\"v2\":[4,8,4,4,1,3,3,1,2,0,2],\"p3\":433,\"v3\":[3,9,2,6,1,4,2,2,2],\"p4\":460,\"v4\":[7,13,5,5,2,4,1,2,0,0,4],\"p5\":487,\"v5\":[3,4,4,7,0,2,2,1,1,0,0,1],\"p6\":514,\"v6\":[4,1,3,4,3,2,2,1,2],\"p7\":541,\"v7\":[4,3,1,3,1,2,1,1,1,0,1],\"p8\":568,\"v8\":[1,3,1,3,0,2],\"p9\":595,\"v9\":[2,2,0,1,1],\"p10\":622,\"v10\":[1,1,0,0,1],\"p11\":649,\"v11\":1,\"p12\":677,\"v12\":1}},{\"_typename\":\"TH2F\",\"fUniqueID\":0,\"fBits\":8,\"fName\":\"rise_vs_energy1\",\"fTitle\":\"\",\"fLineColor\":632,\"fLineStyle\":1,\"fLineWidth\":1,\"fFillColor\":0,\"fFillStyle\":1001,\"fMarkerColor\":600,\"fMarkerStyle\":8,\"fMarkerSize\":1,\"fNcells\":729,\"fXaxis\":{\"_typename\":\"TAxis\",\"fUniqueID\":0,\"fBits\":0,\"fName\":\"xaxis\",\"fTitle\":\"\",\"fNdivisions\":510,\"fAxisColor\":1,\"fLabelColor\":1,\"fLabelFont\":42,\"fLabelOffset\":0.005,\"fLabelSize\":0.035,\"fTickLength\":0.03,\"fTitleOffset\":1,\"fTitleSize\":0.035,\"fTitleColor\":1,\"fTitleFont\":42,\"fNbins\":25,\"fXmin\":1,\"fXmax\":5,\"fXbins\":[],\"fFirst\":0,\"fLast\":0,\"fBits2\":0,\"fTimeDisplay\":false,\"fTimeFormat\":\"\",\"fLabels\":null,\"fModLabs\":null},\"fYaxis\":{\"_typename\":\"TAxis\",\"fUniqueID\":0,\"fBits\":0,\"fName\":\"yaxis\",\"fTitle\":\"\",\"fNdivisions\":510,\"fAxisColor\":1,\"fLabelColor\":1,\"fLabelFont\":42,\"fLabelOffset\":0.005,\"fLabelSize\":0.035,\"fTickLength\":0.03,\"fTitleOffset\":0,\"fTitleSize\":0.035,\"fTitleColor\":1,\"fTitleFont\":42,\"fNbins\":25,\"fXmin\":0,\"fXmax\":15,\"fXbins\":[],\"fFirst\":0,\"fLast\":0,\"fBits2\":0,\"fTimeDisplay\":false,\"fTimeFormat\":\"\",\"fLabels\":null,\"fModLabs\":null},\"fZaxis\":{\"_typename\":\"TAxis\",\"fUniqueID\":0,\"fBits\":0,\"fName\":\"zaxis\",\"fTitle\":\"\",\"fNdivisions\":510,\"fAxisColor\":1,\"fLabelColor\":1,\"fLabelFont\":42,\"fLabelOffset\":0.005,\"fLabelSize\":0.035,\"fTickLength\":0.03,\"fTitleOffset\":1,\"fTitleSize\":0.035,\"fTitleColor\":1,\"fTitleFont\":42,\"fNbins\":1,\"fXmin\":0,\"fXmax\":1,\"fXbins\":[],\"fFirst\":0,\"fLast\":0,\"fBits2\":0,\"fTimeDisplay\":false,\"fTimeFormat\":\"\",\"fLabels\":null,\"fModLabs\":null},\"fBarOffset\":0,\"fBarWidth\":1000,\"fEntries\":32,\"fTsumw\":32,\"fTsumw2\":32,\"fTsumwx\":53,\"fTsumwx2\":95.16,\"fMaximum\":-1111,\"fMinimum\":-1111,\"fNormFactor\":0,\"fContour\":[],\"fSumw2\":[],\"fOption\":\"\",\"fFunctions\":{\"_typename\":\"TList\",\"name\":\"TList\",\"arr\":[],\"opt\":[]},\"fBufferSize\":0,\"fBuffer\":[],\"fBinStatErrOpt\":0,\"fStatOverflows\":2,\"fScalefactor\":1,\"fTsumwy\":343.127482181054,\"fTsumwy2\":3738.68287783693,\"fTsumwxy\":567.22956253321,\"fArray\":{\"$arr\":\"Float32\",\"len\":729,\"p\":379,\"v\":[1,0,0,0,0,1],\"p1\":435,\"v1\":[1,1,1,1],\"p2\":460,\"v2\":[2,0,0,1,1,1,1,0,0,0,0,1],\"p3\":487,\"v3\":[2,1],\"p4\":515,\"v4\":[1,0,0,0,1,1,1,0,0,0,1],\"p5\":542,\"v5\":[1,1,1,0,2,2,1],\"p6\":571,\"v6\":1,\"p7\":595,\"v7\":1,\"p8\":676,\"v8\":1}},{\"_typename\":\"TLegend\",\"fUniqueID\":0,\"fBits\":8,\"fLineColor\":1,\"fLineStyle\":1,\"fLineWidth\":1,\"fFillColor\":0,\"fFillStyle\":1001,\"fX1\":4.00000001490116,\"fY1\":11.4600000098348,\"fX2\":5.00000002980232,\"fY2\":15.6000000715256,\"fX1NDC\":0.7,\"fY1NDC\":0.555,\"fX2NDC\":0.9,\"fY2NDC\":0.9,\"fBorderSize\":1,\"fInit\":1,\"fShadowColor\":1,\"fCornerRadius\":0,\"fOption\":\"brNDC\",\"fName\":\"TPave\",\"fTextAngle\":0,\"fTextSize\":0,\"fTextAlign\":12,\"fTextColor\":1,\"fTextFont\":42,\"fPrimitives\":{\"_typename\":\"TList\",\"name\":\"TList\",\"arr\":[{\"_typename\":\"TLegendEntry\",\"fUniqueID\":0,\"fBits\":0,\"fTextAngle\":0,\"fTextSize\":0,\"fTextAlign\":0,\"fTextColor\":0,\"fTextFont\":42,\"fLineColor\":1,\"fLineStyle\":1,\"fLineWidth\":1,\"fFillColor\":0,\"fFillStyle\":0,\"fMarkerColor\":600,\"fMarkerStyle\":8,\"fMarkerSize\":1,\"fObject\":{\"$ref\":8},\"fLabel\":\"NR\",\"fOption\":\"p\"},{\"_typename\":\"TLegendEntry\",\"fUniqueID\":0,\"fBits\":0,\"fTextAngle\":0,\"fTextSize\":0,\"fTextAlign\":0,\"fTextColor\":0,\"fTextFont\":42,\"fLineColor\":1,\"fLineStyle\":1,\"fLineWidth\":1,\"fFillColor\":0,\"fFillStyle\":0,\"fMarkerColor\":632,\"fMarkerStyle\":8,\"fMarkerSize\":1,\"fObject\":{\"$ref\":3},\"fLabel\":\"ER\",\"fOption\":\"p\"}],\"opt\":[\"p\",\"p\"]},\"fEntrySeparation\":0.1,\"fMargin\":0.25,\"fNColumns\":1,\"fColumnSeparation\":0},{\"_typename\":\"TStyle\",\"fUniqueID\":0,\"fBits\":0,\"fName\":\"Modern\",\"fTitle\":\"Modern Style\",\"fLineColor\":1,\"fLineStyle\":1,\"fLineWidth\":1,\"fFillColor\":19,\"fFillStyle\":1001,\"fMarkerColor\":1,\"fMarkerStyle\":1,\"fMarkerSize\":1,\"fTextAngle\":0,\"fTextSize\":0.05,\"fTextAlign\":11,\"fTextColor\":1,\"fTextFont\":62,\"fXaxis\":{\"_typename\":\"TAttAxis\",\"fNdivisions\":510,\"fAxisColor\":1,\"fLabelColor\":1,\"fLabelFont\":42,\"fLabelOffset\":0.005,\"fLabelSize\":0.035,\"fTickLength\":0.03,\"fTitleOffset\":1,\"fTitleSize\":0.035,\"fTitleColor\":1,\"fTitleFont\":42},\"fYaxis\":{\"_typename\":\"TAttAxis\",\"fNdivisions\":510,\"fAxisColor\":1,\"fLabelColor\":1,\"fLabelFont\":42,\"fLabelOffset\":0.005,\"fLabelSize\":0.035,\"fTickLength\":0.03,\"fTitleOffset\":0,\"fTitleSize\":0.035,\"fTitleColor\":1,\"fTitleFont\":42},\"fZaxis\":{\"_typename\":\"TAttAxis\",\"fNdivisions\":510,\"fAxisColor\":1,\"fLabelColor\":1,\"fLabelFont\":42,\"fLabelOffset\":0.005,\"fLabelSize\":0.035,\"fTickLength\":0.03,\"fTitleOffset\":1,\"fTitleSize\":0.035,\"fTitleColor\":1,\"fTitleFont\":42},\"fBarWidth\":1,\"fBarOffset\":0,\"fColorModelPS\":0,\"fDrawBorder\":0,\"fOptLogx\":0,\"fOptLogy\":0,\"fOptLogz\":0,\"fOptDate\":0,\"fOptStat\":1111,\"fOptTitle\":1,\"fOptFile\":0,\"fOptFit\":0,\"fShowEventStatus\":0,\"fShowEditor\":0,\"fShowToolBar\":0,\"fNumberContours\":20,\"fAttDate\":{\"_typename\":\"TAttText\",\"fTextAngle\":0,\"fTextSize\":0.025,\"fTextAlign\":11,\"fTextColor\":1,\"fTextFont\":62},\"fDateX\":0.01,\"fDateY\":0.01,\"fEndErrorSize\":2,\"fErrorX\":0.5,\"fFuncColor\":2,\"fFuncStyle\":1,\"fFuncWidth\":2,\"fGridColor\":0,\"fGridStyle\":3,\"fGridWidth\":1,\"fLegendBorderSize\":1,\"fLegendFillColor\":0,\"fLegendFont\":42,\"fLegendTextSize\":0,\"fHatchesLineWidth\":1,\"fHatchesSpacing\":1,\"fFrameFillColor\":0,\"fFrameLineColor\":1,\"fFrameFillStyle\":1001,\"fFrameLineStyle\":1,\"fFrameLineWidth\":1,\"fFrameBorderSize\":1,\"fFrameBorderMode\":0,\"fHistFillColor\":0,\"fHistLineColor\":602,\"fHistFillStyle\":1001,\"fHistLineStyle\":1,\"fHistLineWidth\":1,\"fHistMinimumZero\":false,\"fHistTopMargin\":0.05,\"fCanvasPreferGL\":false,\"fCanvasColor\":0,\"fCanvasBorderSize\":2,\"fCanvasBorderMode\":0,\"fCanvasDefH\":500,\"fCanvasDefW\":700,\"fCanvasDefX\":10,\"fCanvasDefY\":10,\"fPadColor\":0,\"fPadBorderSize\":2,\"fPadBorderMode\":0,\"fPadBottomMargin\":0.1,\"fPadTopMargin\":0.1,\"fPadLeftMargin\":0.1,\"fPadRightMargin\":0.1,\"fPadGridX\":false,\"fPadGridY\":false,\"fPadTickX\":0,\"fPadTickY\":0,\"fPaperSizeX\":20,\"fPaperSizeY\":26,\"fScreenFactor\":1,\"fStatColor\":0,\"fStatTextColor\":1,\"fStatBorderSize\":1,\"fStatFont\":42,\"fStatFontSize\":0,\"fStatStyle\":1001,\"fStatFormat\":\"6.4g\",\"fStatX\":0.98,\"fStatY\":0.935,\"fStatW\":0.2,\"fStatH\":0.16,\"fStripDecimals\":true,\"fTitleAlign\":23,\"fTitleColor\":0,\"fTitleTextColor\":1,\"fTitleBorderSize\":0,\"fTitleFont\":42,\"fTitleFontSize\":0.05,\"fTitleStyle\":0,\"fTitleX\":0.5,\"fTitleY\":0.995,\"fTitleW\":0,\"fTitleH\":0,\"fLegoInnerR\":0.5,\"fLineStyles\":[\"\",\"  \",\" 12 12\",\" 4 8\",\" 12 16 4 16\",\" 20 12 4 12\",\" 20 12 4 12 4 12 4 12\",\" 20 20\",\" 20 12 4 12 4 12\",\" 80 20\",\" 80 40 4 40\",\"  \",\"  \",\"  \",\"  \",\"  \",\"  \",\"  \",\"  \",\"  \",\"  \",\"  \",\"  \",\"  \",\"  \",\"  \",\"  \",\"  \",\"  \",\"  \"],\"fHeaderPS\":\"\",\"fTitlePS\":\"\",\"fFitFormat\":\"5.4g\",\"fPaintTextFormat\":\"g\",\"fLineScalePS\":3,\"fJoinLinePS\":0,\"fCapLinePS\":0,\"fTimeOffset\":788918400,\"fImageScaling\":1}],\"opt\":[\"\",\"\",\"SAME\",\"SAME\",\"\"]},\"fExecs\":null,\"fName\":\"cRise_vs_energy\",\"fTitle\":\"\",\"fNumPaletteColor\":0,\"fNextPaletteColor\":0,\"fDISPLAY\":\"$DISPLAY\",\"fDoubleBuffer\":0,\"fRetained\":true,\"fXsizeUser\":0,\"fYsizeUser\":0,\"fXsizeReal\":20,\"fYsizeReal\":16.66667,\"fWindowTopX\":0,\"fWindowTopY\":0,\"fWindowWidth\":0,\"fWindowHeight\":0,\"fCw\":596,\"fCh\":472,\"fCatt\":{\"_typename\":\"TAttCanvas\",\"fXBetween\":2,\"fYBetween\":2,\"fTitleFromTop\":1.2,\"fXdate\":0.2,\"fYdate\":0.3,\"fAdate\":1},\"kMoveOpaque\":true,\"kResizeOpaque\":true,\"fHighLightColor\":2,\"fBatch\":true,\"kShowEventStatus\":false,\"kAutoExec\":true,\"kMenuBar\":true});\n",
       "   Core.settings.HandleKeys = false;\n",
       "   Core.draw(\"root_plot_1657248806740\", obj, \"\");\n",
       "}\n",
       "\n",
       "function script_load_root_plot_1657248806740(src, on_error) {\n",
       "    let script = document.createElement('script');\n",
       "    script.src = src;\n",
       "    script.onload = function() { display_root_plot_1657248806740(JSROOT); };\n",
       "    script.onerror = function() { script.remove(); on_error(); };\n",
       "    document.head.appendChild(script);\n",
       "}\n",
       "\n",
       "if (typeof requirejs !== 'undefined') {\n",
       "\n",
       "    // We are in jupyter notebooks, use require.js which should be configured already\n",
       "    requirejs.config({\n",
       "       paths: { 'JSRootCore' : [ 'scripts/JSRoot.core', 'https://root.cern/js/6.1.1/scripts/JSRoot.core.min', 'https://jsroot.gsi.de/6.1.1/scripts/JSRoot.core.min' ] }\n",
       "    })(['JSRootCore'],  function(Core) {\n",
       "       display_root_plot_1657248806740(Core);\n",
       "    });\n",
       "\n",
       "} else if (typeof JSROOT !== 'undefined') {\n",
       "\n",
       "   // JSROOT already loaded, just use it\n",
       "   display_root_plot_1657248806740(JSROOT);\n",
       "\n",
       "} else {\n",
       "\n",
       "    // We are in jupyterlab without require.js, directly loading jsroot\n",
       "    // Jupyterlab might be installed in a different base_url so we need to know it.\n",
       "    try {\n",
       "        var base_url = JSON.parse(document.getElementById('jupyter-config-data').innerHTML).baseUrl;\n",
       "    } catch(_) {\n",
       "        var base_url = '/';\n",
       "    }\n",
       "\n",
       "    // Try loading a local version of requirejs and fallback to cdn if not possible.\n",
       "    script_load_root_plot_1657248806740(base_url + 'static/scripts/JSRoot.core.js', function(){\n",
       "        console.error('Fail to load JSROOT locally, please check your jupyter_notebook_config.py file');\n",
       "        script_load_root_plot_1657248806740('https://root.cern/js/6.1.1/scripts/JSRoot.core.min.js', function(){\n",
       "            document.getElementById(\"root_plot_1657248806740\").innerHTML = \"Failed to load JSROOT\";\n",
       "        });\n",
       "    });\n",
       "}\n",
       "\n",
       "</script>\n"
      ],
      "text/plain": [
       "<IPython.core.display.HTML object>"
      ]
     },
     "metadata": {},
     "output_type": "display_data"
    }
   ],
   "source": [
    "cRise_vs_energy = ROOT.TCanvas(\"cRise_vs_energy\", \"\", 600, 500)\n",
    "cRise_vs_energy.cd()\n",
    "rise_vs_energy.SetStats(0)\n",
    "rise_vs_energy.SetMarkerColor(ROOT.kRed)\n",
    "rise_vs_energy.SetMarkerStyle(8)\n",
    "rise_vs_energy.SetMarkerSize(1)\n",
    "rise_vs_energy.GetYaxis().SetRangeUser(6, 18)\n",
    "rise_vs_energy.GetYaxis().SetTitle('us')\n",
    "rise_vs_energy.GetXaxis().SetTitle('keV')\n",
    "rise_vs_energy.GetYaxis().SetTitleOffset(1.6)\n",
    "rise_vs_energy.Draw()\n",
    "rise_vs_energy1.SetMarkerColor(ROOT.kBlue)\n",
    "rise_vs_energy1.SetMarkerStyle(8)\n",
    "rise_vs_energy1.SetMarkerSize(1)\n",
    "rise_vs_energy1.Draw(\"SAME\")\n",
    "\n",
    "legend = ROOT.TLegend(0.7,0.555,0.9,0.9)\n",
    "legend.AddEntry(rise_vs_energy1,\"NR\",\"p\")\n",
    "legend.AddEntry(rise_vs_energy,\"ER\",\"p\")\n",
    "legend.Draw(\"SAME\")\n",
    "cRise_vs_energy.Draw()"
   ]
  },
  {
   "cell_type": "code",
   "execution_count": null,
   "id": "a50eca55",
   "metadata": {},
   "outputs": [],
   "source": []
  }
 ],
 "metadata": {
  "kernelspec": {
   "display_name": "Python 3 (ipykernel)",
   "language": "python",
   "name": "python3"
  },
  "language_info": {
   "codemirror_mode": {
    "name": "ipython",
    "version": 3
   },
   "file_extension": ".py",
   "mimetype": "text/x-python",
   "name": "python",
   "nbconvert_exporter": "python",
   "pygments_lexer": "ipython3",
   "version": "3.10.4"
  }
 },
 "nbformat": 4,
 "nbformat_minor": 5
}
