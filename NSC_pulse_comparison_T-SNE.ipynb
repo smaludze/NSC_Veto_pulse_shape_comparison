{
 "cells": [
  {
   "cell_type": "code",
   "execution_count": 2,
   "id": "9c96fc10",
   "metadata": {},
   "outputs": [
    {
     "name": "stderr",
     "output_type": "stream",
     "text": [
      "2022-07-13 19:16:57.348789: I tensorflow/core/util/util.cc:169] oneDNN custom operations are on. You may see slightly different numerical results due to floating-point round-off errors from different computation orders. To turn them off, set the environment variable `TF_ENABLE_ONEDNN_OPTS=0`.\n",
      "2022-07-13 19:16:57.395325: W tensorflow/stream_executor/platform/default/dso_loader.cc:64] Could not load dynamic library 'libcudart.so.11.0'; dlerror: libcudart.so.11.0: cannot open shared object file: No such file or directory; LD_LIBRARY_PATH: /home/smalu/root_install/lib\n",
      "2022-07-13 19:16:57.395332: I tensorflow/stream_executor/cuda/cudart_stub.cc:29] Ignore above cudart dlerror if you do not have a GPU set up on your machine.\n"
     ]
    }
   ],
   "source": [
    "import pickle\n",
    "import random\n",
    "import matplotlib\n",
    "from matplotlib import pyplot as plt\n",
    "import tensorflow as tf\n",
    "from tensorflow import keras\n",
    "import numpy as np\n",
    "from tensorflow.keras import layers\n",
    "from tensorflow.keras.layers import Conv2D, MaxPooling2D, Flatten, Dense\n",
    "from tensorflow.keras.optimizers import SGD\n",
    "import pickle\n",
    "import random\n",
    "from sklearn.cluster import KMeans\n",
    "from sklearn.preprocessing import StandardScaler\n",
    "from sklearn.cluster import DBSCAN\n",
    "from sklearn.manifold import TSNE\n",
    "import seaborn as sns"
   ]
  },
  {
   "cell_type": "code",
   "execution_count": 18,
   "id": "bc221b8a",
   "metadata": {},
   "outputs": [],
   "source": [
    "with open('timeDiff_ER.pickle', 'rb') as handle:\n",
    "    ER = pickle.load(handle)"
   ]
  },
  {
   "cell_type": "code",
   "execution_count": 19,
   "id": "d68043b9",
   "metadata": {},
   "outputs": [],
   "source": [
    "with open('timeDiff_NR.pickle', 'rb') as handle1:\n",
    "    NR = pickle.load(handle1)"
   ]
  },
  {
   "cell_type": "code",
   "execution_count": 23,
   "id": "3d2ccf04",
   "metadata": {},
   "outputs": [
    {
     "data": {
      "text/plain": [
       "1.0"
      ]
     },
     "execution_count": 23,
     "metadata": {},
     "output_type": "execute_result"
    }
   ],
   "source": [
    "NR[1][-1]"
   ]
  },
  {
   "cell_type": "code",
   "execution_count": 32,
   "id": "b1ed6da9",
   "metadata": {},
   "outputs": [
    {
     "name": "stdout",
     "output_type": "stream",
     "text": [
      "Number of Test samples: 62\n"
     ]
    }
   ],
   "source": [
    "labels_test, inputs_test =[], []\n",
    "        \n",
    "samples = min(len(ER), len(NR))\n",
    "random.shuffle(ER)\n",
    "random.shuffle(NR)\n",
    "ER = ER[:samples]    #making data equal size\n",
    "NR = NR[:samples]\n",
    "ER_NR_test = ER+NR\n",
    "random.shuffle(ER_NR_test)\n",
    "\n",
    "for i in range(len(ER_NR_test)):\n",
    "    labels_test.append(ER_NR_test[i][-1])\n",
    "    inputs_test.append(ER_NR_test[i][:-2])  #excude E and label\n",
    "        \n",
    "labels_test = np.array(labels_test)\n",
    "inputs_test = np.array(inputs_test, dtype=np.float64)\n",
    "\n",
    "scaler = StandardScaler()\n",
    "inputs_test = scaler.fit_transform(inputs_test)\n",
    "\n",
    "print(\"Number of Test samples: \"+str(samples))"
   ]
  },
  {
   "cell_type": "code",
   "execution_count": 33,
   "id": "2b8e6b1d",
   "metadata": {},
   "outputs": [
    {
     "name": "stdout",
     "output_type": "stream",
     "text": [
      "[t-SNE] Computing 91 nearest neighbors...\n",
      "[t-SNE] Indexed 124 samples in 0.000s...\n",
      "[t-SNE] Computed neighbors for 124 samples in 0.017s...\n",
      "[t-SNE] Computed conditional probabilities for sample 124 / 124\n",
      "[t-SNE] Mean sigma: 0.000000\n",
      "[t-SNE] KL divergence after 250 iterations with early exaggeration: 55.661823\n",
      "[t-SNE] KL divergence after 800 iterations: 0.311221\n"
     ]
    },
    {
     "name": "stderr",
     "output_type": "stream",
     "text": [
      "/home/smalu/.local/lib/python3.10/site-packages/sklearn/manifold/_t_sne.py:795: FutureWarning: The default initialization in TSNE will change from 'random' to 'pca' in 1.2.\n",
      "  warnings.warn(\n",
      "/home/smalu/.local/lib/python3.10/site-packages/sklearn/manifold/_t_sne.py:805: FutureWarning: The default learning rate in TSNE will change from 200.0 to 'auto' in 1.2.\n",
      "  warnings.warn(\n"
     ]
    }
   ],
   "source": [
    "#T-SNE\n",
    "tsne = TSNE(n_components=2, verbose=1, random_state=2)\n",
    "z = tsne.fit_transform(inputs_test)"
   ]
  },
  {
   "cell_type": "code",
   "execution_count": 34,
   "id": "5e49772a",
   "metadata": {
    "scrolled": true
   },
   "outputs": [
    {
     "data": {
      "image/png": "[encoded data removed]",
      "text/plain": [
       "<Figure size 432x288 with 1 Axes>"
      ]
     },
     "metadata": {
      "needs_background": "light"
     },
     "output_type": "display_data"
    }
   ],
   "source": [
    "X1, Y1, X2, Y2, = [], [], [], []\n",
    "for i in range(len(labels_test)):\n",
    "    if labels_test[i] == 0:\n",
    "        X1.append(z[i][0])\n",
    "        Y1.append(z[i][1])\n",
    "    if labels_test[i] == 1:\n",
    "        X2.append(z[i][0])\n",
    "        Y2.append(z[i][1])\n",
    "        \n",
    "X1 = np.array(X1)\n",
    "Y1 = np.array(Y1)\n",
    "X2 = np.array(X2)\n",
    "Y2 = np.array(Y2)\n",
    "\n",
    "plt.plot(X1, Y1, \"ro\",markersize=8, label=\"ER\")\n",
    "plt.plot(X2, Y2, \"bo\",markersize=8, label=\"NR\")\n",
    "plt.title(\"T-SNE\")\n",
    "plt.xlabel(\"comp-1\")\n",
    "plt.ylabel(\"comp-2\")\n",
    "plt.legend()\n",
    "plt.show()"
   ]
  },
  {
   "cell_type": "code",
   "execution_count": 45,
   "id": "5dd5e41e",
   "metadata": {},
   "outputs": [
    {
     "data": {
      "text/html": [
       "<style>#sk-container-id-3 {color: black;background-color: white;}#sk-container-id-3 pre{padding: 0;}#sk-container-id-3 div.sk-toggleable {background-color: white;}#sk-container-id-3 label.sk-toggleable__label {cursor: pointer;display: block;width: 100%;margin-bottom: 0;padding: 0.3em;box-sizing: border-box;text-align: center;}#sk-container-id-3 label.sk-toggleable__label-arrow:before {content: \"▸\";float: left;margin-right: 0.25em;color: #696969;}#sk-container-id-3 label.sk-toggleable__label-arrow:hover:before {color: black;}#sk-container-id-3 div.sk-estimator:hover label.sk-toggleable__label-arrow:before {color: black;}#sk-container-id-3 div.sk-toggleable__content {max-height: 0;max-width: 0;overflow: hidden;text-align: left;background-color: #f0f8ff;}#sk-container-id-3 div.sk-toggleable__content pre {margin: 0.2em;color: black;border-radius: 0.25em;background-color: #f0f8ff;}#sk-container-id-3 input.sk-toggleable__control:checked~div.sk-toggleable__content {max-height: 200px;max-width: 100%;overflow: auto;}#sk-container-id-3 input.sk-toggleable__control:checked~label.sk-toggleable__label-arrow:before {content: \"▾\";}#sk-container-id-3 div.sk-estimator input.sk-toggleable__control:checked~label.sk-toggleable__label {background-color: #d4ebff;}#sk-container-id-3 div.sk-label input.sk-toggleable__control:checked~label.sk-toggleable__label {background-color: #d4ebff;}#sk-container-id-3 input.sk-hidden--visually {border: 0;clip: rect(1px 1px 1px 1px);clip: rect(1px, 1px, 1px, 1px);height: 1px;margin: -1px;overflow: hidden;padding: 0;position: absolute;width: 1px;}#sk-container-id-3 div.sk-estimator {font-family: monospace;background-color: #f0f8ff;border: 1px dotted black;border-radius: 0.25em;box-sizing: border-box;margin-bottom: 0.5em;}#sk-container-id-3 div.sk-estimator:hover {background-color: #d4ebff;}#sk-container-id-3 div.sk-parallel-item::after {content: \"\";width: 100%;border-bottom: 1px solid gray;flex-grow: 1;}#sk-container-id-3 div.sk-label:hover label.sk-toggleable__label {background-color: #d4ebff;}#sk-container-id-3 div.sk-serial::before {content: \"\";position: absolute;border-left: 1px solid gray;box-sizing: border-box;top: 0;bottom: 0;left: 50%;z-index: 0;}#sk-container-id-3 div.sk-serial {display: flex;flex-direction: column;align-items: center;background-color: white;padding-right: 0.2em;padding-left: 0.2em;position: relative;}#sk-container-id-3 div.sk-item {position: relative;z-index: 1;}#sk-container-id-3 div.sk-parallel {display: flex;align-items: stretch;justify-content: center;background-color: white;position: relative;}#sk-container-id-3 div.sk-item::before, #sk-container-id-3 div.sk-parallel-item::before {content: \"\";position: absolute;border-left: 1px solid gray;box-sizing: border-box;top: 0;bottom: 0;left: 50%;z-index: -1;}#sk-container-id-3 div.sk-parallel-item {display: flex;flex-direction: column;z-index: 1;position: relative;background-color: white;}#sk-container-id-3 div.sk-parallel-item:first-child::after {align-self: flex-end;width: 50%;}#sk-container-id-3 div.sk-parallel-item:last-child::after {align-self: flex-start;width: 50%;}#sk-container-id-3 div.sk-parallel-item:only-child::after {width: 0;}#sk-container-id-3 div.sk-dashed-wrapped {border: 1px dashed gray;margin: 0 0.4em 0.5em 0.4em;box-sizing: border-box;padding-bottom: 0.4em;background-color: white;}#sk-container-id-3 div.sk-label label {font-family: monospace;font-weight: bold;display: inline-block;line-height: 1.2em;}#sk-container-id-3 div.sk-label-container {text-align: center;}#sk-container-id-3 div.sk-container {/* jupyter's `normalize.less` sets `[hidden] { display: none; }` but bootstrap.min.css set `[hidden] { display: none !important; }` so we also need the `!important` here to be able to override the default hidden behavior on the sphinx rendered scikit-learn.org. See: https://github.com/scikit-learn/scikit-learn/issues/21755 */display: inline-block !important;position: relative;}#sk-container-id-3 div.sk-text-repr-fallback {display: none;}</style><div id=\"sk-container-id-3\" class=\"sk-top-container\"><div class=\"sk-text-repr-fallback\"><pre>KMeans(init=&#x27;random&#x27;, n_clusters=2, random_state=42)</pre><b>In a Jupyter environment, please rerun this cell to show the HTML representation or trust the notebook. <br />On GitHub, the HTML representation is unable to render, please try loading this page with nbviewer.org.</b></div><div class=\"sk-container\" hidden><div class=\"sk-item\"><div class=\"sk-estimator sk-toggleable\"><input class=\"sk-toggleable__control sk-hidden--visually\" id=\"sk-estimator-id-3\" type=\"checkbox\" checked><label for=\"sk-estimator-id-3\" class=\"sk-toggleable__label sk-toggleable__label-arrow\">KMeans</label><div class=\"sk-toggleable__content\"><pre>KMeans(init=&#x27;random&#x27;, n_clusters=2, random_state=42)</pre></div></div></div></div></div>"
      ],
      "text/plain": [
       "KMeans(init='random', n_clusters=2, random_state=42)"
      ]
     },
     "execution_count": 45,
     "metadata": {},
     "output_type": "execute_result"
    }
   ],
   "source": [
    "#k-means algorithm \n",
    "kmeans = KMeans(init=\"random\", n_clusters=2, n_init=10, max_iter=300, random_state=42)\n",
    "#kmeans.fit(inputs_scaled)\n",
    "kmeans.fit(z)"
   ]
  },
  {
   "cell_type": "code",
   "execution_count": 46,
   "id": "d2565d3d",
   "metadata": {
    "scrolled": true
   },
   "outputs": [
    {
     "name": "stdout",
     "output_type": "stream",
     "text": [
      "0.8951612903225806\n",
      "75\n"
     ]
    }
   ],
   "source": [
    "total = 0\n",
    "count = 0\n",
    "for i in range(len(labels_test)):\n",
    "    if kmeans.labels_[i] == labels_test[i]:\n",
    "        count+=1\n",
    "    total+=1\n",
    "    \n",
    "print(count/total)\n",
    "print(list(kmeans.labels_).count(1))"
   ]
  },
  {
   "cell_type": "code",
   "execution_count": 12,
   "id": "969c5e04",
   "metadata": {},
   "outputs": [
    {
     "data": {
      "text/plain": [
       "array([0, 0, 0, ..., 1, 1, 1], dtype=int32)"
      ]
     },
     "execution_count": 12,
     "metadata": {},
     "output_type": "execute_result"
    }
   ],
   "source": []
  },
  {
   "cell_type": "code",
   "execution_count": 49,
   "id": "bd33d08a",
   "metadata": {},
   "outputs": [
    {
     "data": {
      "image/png": "[encoded data removed]",
      "text/plain": [
       "<Figure size 432x288 with 1 Axes>"
      ]
     },
     "metadata": {
      "needs_background": "light"
     },
     "output_type": "display_data"
    }
   ],
   "source": [
    "X1, Y1, X2, Y2, = [], [], [], []\n",
    "for i in range(len(kmeans.labels_)):\n",
    "    if kmeans.labels_[i] == 0:\n",
    "        X1.append(z[i][0])\n",
    "        Y1.append(z[i][1])\n",
    "    if kmeans.labels_[i] == 1:\n",
    "        X2.append(z[i][0])\n",
    "        Y2.append(z[i][1])\n",
    "        \n",
    "X1 = np.array(X1)\n",
    "Y1 = np.array(Y1)\n",
    "X2 = np.array(X2)\n",
    "Y2 = np.array(Y2)\n",
    "\n",
    "plt.plot(X1, Y1, \"ro\",markersize=8, label=\"ER\")\n",
    "plt.plot(X2, Y2, \"bo\",markersize=8, label=\"NR\")\n",
    "plt.title(\"T-SNE+kMeans\")\n",
    "plt.xlabel(\"comp-1\")\n",
    "plt.ylabel(\"comp-2\")\n",
    "plt.legend()\n",
    "plt.show()"
   ]
  }
 ],
 "metadata": {
  "kernelspec": {
   "display_name": "Python 3 (ipykernel)",
   "language": "python",
   "name": "python3"
  },
  "language_info": {
   "codemirror_mode": {
    "name": "ipython",
    "version": 3
   },
   "file_extension": ".py",
   "mimetype": "text/x-python",
   "name": "python",
   "nbconvert_exporter": "python",
   "pygments_lexer": "ipython3",
   "version": "3.10.4"
  }
 },
 "nbformat": 4,
 "nbformat_minor": 5
}
